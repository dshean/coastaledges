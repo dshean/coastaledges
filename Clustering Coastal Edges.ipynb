{
 "cells": [
  {
   "cell_type": "markdown",
   "metadata": {},
   "source": [
    "# # Clustering- Coastal Edges\n"
   ]
  },
  {
   "cell_type": "code",
   "execution_count": 1,
   "metadata": {},
   "outputs": [
    {
     "name": "stderr",
     "output_type": "stream",
     "text": [
      "C:\\ProgramData\\Anaconda3\\lib\\site-packages\\h5py\\__init__.py:36: FutureWarning: Conversion of the second argument of issubdtype from `float` to `np.floating` is deprecated. In future, it will be treated as `np.float64 == np.dtype(float).type`.\n",
      "  from ._conv import register_converters as _register_converters\n"
     ]
    }
   ],
   "source": [
    "import pandas as pd\n",
    "import pandas_ml as pd_ml\n",
    "import numpy as np\n",
    "from numpy import linalg as LA\n",
    "\n",
    "import scipy\n",
    "\n",
    "%matplotlib notebook\n",
    "\n",
    "import matplotlib.pylab as py\n",
    "import matplotlib.pyplot as plt\n",
    "from mpl_toolkits.mplot3d import Axes3D\n",
    "#from sklearn.decomposition import PCA\n",
    "from sklearn.preprocessing import StandardScaler\n",
    "from sklearn.decomposition import PCA as sklearnPCA\n",
    "from sklearn.metrics import f1_score\n",
    "from sklearn.ensemble import RandomForestClassifier\n",
    "from sklearn.datasets import make_classification\n",
    "from sklearn.metrics import classification_report\n",
    "from sklearn.cluster import KMeans\n",
    "from sklearn import neighbors\n",
    "from sklearn.metrics import confusion_matrix\n",
    "from sklearn.model_selection import train_test_split \n",
    "from sklearn import preprocessing\n",
    "\n",
    "import itertools\n",
    "from matplotlib.colors import ListedColormap\n",
    "#import plotly.plotly as ply\n",
    "\n",
    "import tensorflow as tf\n",
    "\n"
   ]
  },
  {
   "cell_type": "code",
   "execution_count": 2,
   "metadata": {},
   "outputs": [
    {
     "data": {
      "text/html": [
       "<div>\n",
       "<style scoped>\n",
       "    .dataframe tbody tr th:only-of-type {\n",
       "        vertical-align: middle;\n",
       "    }\n",
       "\n",
       "    .dataframe tbody tr th {\n",
       "        vertical-align: top;\n",
       "    }\n",
       "\n",
       "    .dataframe thead th {\n",
       "        text-align: right;\n",
       "    }\n",
       "</style>\n",
       "<table border=\"1\" class=\"dataframe\">\n",
       "  <thead>\n",
       "    <tr style=\"text-align: right;\">\n",
       "      <th></th>\n",
       "      <th>x</th>\n",
       "      <th>y</th>\n",
       "      <th>red</th>\n",
       "      <th>green</th>\n",
       "      <th>blue</th>\n",
       "      <th>nir</th>\n",
       "    </tr>\n",
       "  </thead>\n",
       "  <tbody>\n",
       "    <tr>\n",
       "      <th>count</th>\n",
       "      <td>1.559241e+07</td>\n",
       "      <td>1.559241e+07</td>\n",
       "      <td>1.559241e+07</td>\n",
       "      <td>1.559241e+07</td>\n",
       "      <td>1.559241e+07</td>\n",
       "      <td>1.559241e+07</td>\n",
       "    </tr>\n",
       "    <tr>\n",
       "      <th>mean</th>\n",
       "      <td>3.869886e+05</td>\n",
       "      <td>4.795378e+06</td>\n",
       "      <td>8.719028e+01</td>\n",
       "      <td>1.142661e+02</td>\n",
       "      <td>1.349220e+02</td>\n",
       "      <td>2.134724e+01</td>\n",
       "    </tr>\n",
       "    <tr>\n",
       "      <th>std</th>\n",
       "      <td>6.635469e+02</td>\n",
       "      <td>2.139469e+03</td>\n",
       "      <td>5.407919e+01</td>\n",
       "      <td>4.078841e+01</td>\n",
       "      <td>2.623506e+01</td>\n",
       "      <td>2.971749e+01</td>\n",
       "    </tr>\n",
       "    <tr>\n",
       "      <th>min</th>\n",
       "      <td>3.856388e+05</td>\n",
       "      <td>4.791368e+06</td>\n",
       "      <td>2.000000e+00</td>\n",
       "      <td>4.500000e+01</td>\n",
       "      <td>7.200000e+01</td>\n",
       "      <td>1.000000e+00</td>\n",
       "    </tr>\n",
       "    <tr>\n",
       "      <th>25%</th>\n",
       "      <td>3.864288e+05</td>\n",
       "      <td>4.793580e+06</td>\n",
       "      <td>5.200000e+01</td>\n",
       "      <td>8.900000e+01</td>\n",
       "      <td>1.210000e+02</td>\n",
       "      <td>3.000000e+00</td>\n",
       "    </tr>\n",
       "    <tr>\n",
       "      <th>50%</th>\n",
       "      <td>3.870852e+05</td>\n",
       "      <td>4.795872e+06</td>\n",
       "      <td>6.300000e+01</td>\n",
       "      <td>1.030000e+02</td>\n",
       "      <td>1.280000e+02</td>\n",
       "      <td>7.000000e+00</td>\n",
       "    </tr>\n",
       "    <tr>\n",
       "      <th>75%</th>\n",
       "      <td>3.874528e+05</td>\n",
       "      <td>4.796879e+06</td>\n",
       "      <td>1.070000e+02</td>\n",
       "      <td>1.280000e+02</td>\n",
       "      <td>1.390000e+02</td>\n",
       "      <td>2.900000e+01</td>\n",
       "    </tr>\n",
       "    <tr>\n",
       "      <th>max</th>\n",
       "      <td>3.887862e+05</td>\n",
       "      <td>4.798792e+06</td>\n",
       "      <td>2.550000e+02</td>\n",
       "      <td>2.550000e+02</td>\n",
       "      <td>2.550000e+02</td>\n",
       "      <td>2.530000e+02</td>\n",
       "    </tr>\n",
       "  </tbody>\n",
       "</table>\n",
       "</div>"
      ],
      "text/plain": [
       "                  x             y           red         green          blue  \\\n",
       "count  1.559241e+07  1.559241e+07  1.559241e+07  1.559241e+07  1.559241e+07   \n",
       "mean   3.869886e+05  4.795378e+06  8.719028e+01  1.142661e+02  1.349220e+02   \n",
       "std    6.635469e+02  2.139469e+03  5.407919e+01  4.078841e+01  2.623506e+01   \n",
       "min    3.856388e+05  4.791368e+06  2.000000e+00  4.500000e+01  7.200000e+01   \n",
       "25%    3.864288e+05  4.793580e+06  5.200000e+01  8.900000e+01  1.210000e+02   \n",
       "50%    3.870852e+05  4.795872e+06  6.300000e+01  1.030000e+02  1.280000e+02   \n",
       "75%    3.874528e+05  4.796879e+06  1.070000e+02  1.280000e+02  1.390000e+02   \n",
       "max    3.887862e+05  4.798792e+06  2.550000e+02  2.550000e+02  2.550000e+02   \n",
       "\n",
       "                nir  \n",
       "count  1.559241e+07  \n",
       "mean   2.134724e+01  \n",
       "std    2.971749e+01  \n",
       "min    1.000000e+00  \n",
       "25%    3.000000e+00  \n",
       "50%    7.000000e+00  \n",
       "75%    2.900000e+01  \n",
       "max    2.530000e+02  "
      ]
     },
     "execution_count": 2,
     "metadata": {},
     "output_type": "execute_result"
    }
   ],
   "source": [
    "filename='NOAA2017_DEM-0000014848-0000000000_valid_combined.xyz'\n",
    "\n",
    "d=pd.read_csv(filename, sep=' ')\n",
    "\n",
    "colNames=['x', 'y','red','green','blue','nir']\n",
    "\n",
    "d.columns=colNames \n",
    "\n",
    "d.to_hdf('Coastal.h5','table')\n",
    "\n",
    "\n",
    "\n",
    "#df = pd.read_hdf('GoldenGate19withRGB.h5','table')\n",
    "\n",
    "#df = pd.read_hdf('NJ_Sandy05.h5','table')\n",
    "df = pd.read_hdf('Coastal.h5','table')\n",
    "\n",
    "\n",
    "ndpoints=df.shape[0]\n",
    "\n",
    "df.describe()\n",
    "\n",
    "##print(df[1:1000])"
   ]
  },
  {
   "cell_type": "markdown",
   "metadata": {},
   "source": [
    "Note: Original data is mislabeled. We will perfom K-mean clustering with 4 classes."
   ]
  },
  {
   "cell_type": "code",
   "execution_count": 3,
   "metadata": {},
   "outputs": [
    {
     "name": "stderr",
     "output_type": "stream",
     "text": [
      "C:\\ProgramData\\Anaconda3\\lib\\site-packages\\ipykernel_launcher.py:2: FutureWarning: Method .as_matrix will be removed in a future version. Use .values instead.\n",
      "  \n"
     ]
    }
   ],
   "source": [
    "adf=df[['x','y','red','green','blue', 'nir']]\n",
    "adfmatrix=adf.as_matrix()\n",
    "\n",
    "kmeans = KMeans(n_clusters=4, random_state=0).fit(adfmatrix)\n",
    "kmeans.fit(adfmatrix)\n",
    "y_kmeans = kmeans.predict(adfmatrix)\n",
    "\n",
    "\n",
    "\n",
    "\n",
    "\n"
   ]
  },
  {
   "cell_type": "code",
   "execution_count": 5,
   "metadata": {},
   "outputs": [
    {
     "data": {
      "image/png": "[encoded data removed]",
      "text/plain": [
       "<Figure size 432x288 with 1 Axes>"
      ]
     },
     "metadata": {},
     "output_type": "display_data"
    }
   ],
   "source": [
    "fig1=plt.figure(1)\n",
    "plt.hist(y_kmeans)\n",
    "plt.title('Class count')\n",
    "plt.show()"
   ]
  },
  {
   "cell_type": "code",
   "execution_count": 6,
   "metadata": {},
   "outputs": [
    {
     "name": "stdout",
     "output_type": "stream",
     "text": [
      "15592413\n",
      "<class 'numpy.ndarray'>\n",
      "[0 1 2 3] [5423183 3935352 2735887 3497991]\n"
     ]
    }
   ],
   "source": [
    "print(y_kmeans.size)\n",
    "print(type(y_kmeans))\n",
    "unique,count=np.unique(y_kmeans,return_counts=True)\n",
    "print(unique,count)\n",
    "\n",
    "\n"
   ]
  },
  {
   "cell_type": "code",
   "execution_count": 7,
   "metadata": {},
   "outputs": [],
   "source": [
    "ndpoints=df.shape[0]\n",
    "nsubset=100000\n",
    "k=10  ## k nearest neighbors\n",
    "grid=np.floor(ndpoints/nsubset).astype(int)\n",
    "###\n",
    "edf=df.iloc[0:ndpoints:grid]\n",
    "cdf=df[['x','y']]\n",
    "ecdf=cdf.iloc[0:ndpoints:grid]\n",
    "sd=scipy.spatial.cKDTree(ecdf)\n",
    "nn=sd.query(ecdf.iloc[1:ndpoints:grid], k)\n",
    "adf=df[['x','y','red','green','blue','nir']]"
   ]
  },
  {
   "cell_type": "code",
   "execution_count": 8,
   "metadata": {},
   "outputs": [
    {
     "data": {
      "image/png": "[encoded data removed]",
      "text/plain": [
       "<Figure size 432x288 with 2 Axes>"
      ]
     },
     "metadata": {},
     "output_type": "display_data"
    }
   ],
   "source": [
    "#fig=plt.figure()\n",
    "#ax = Axes3D(fig)\n",
    "#ax.scatter(xs=adfmatrix[:, 0], ys=adfmatrix[:, 1], c=y_kmeans, s=1,cmap='viridis')\n",
    "#plt.scatter()\n",
    "#centers = kmeans.cluster_centers_\n",
    "#plt.scatter(centers[:, 0], centers[:, 1], c='black', s=200, alpha=0.5);\n",
    "\n",
    "###\n",
    "sub_adf= adf[::grid]\n",
    "###\n",
    "\n",
    "\n",
    "\n",
    "#ax2 = adf.plot.scatter(x='x', y='y', c=y_kmeans, colormap='viridis')\n",
    "ax2 = sub_adf.plot.scatter(x='x', y='y', c=y_kmeans[::grid], colormap='viridis')                       \n",
    "\n",
    "####\n",
    "\n"
   ]
  },
  {
   "cell_type": "code",
   "execution_count": null,
   "metadata": {},
   "outputs": [],
   "source": []
  }
 ],
 "metadata": {
  "kernelspec": {
   "display_name": "Python 3",
   "language": "python",
   "name": "python3"
  },
  "language_info": {
   "codemirror_mode": {
    "name": "ipython",
    "version": 3
   },
   "file_extension": ".py",
   "mimetype": "text/x-python",
   "name": "python",
   "nbconvert_exporter": "python",
   "pygments_lexer": "ipython3",
   "version": "3.6.5"
  }
 },
 "nbformat": 4,
 "nbformat_minor": 2
}
